{
 "cells": [
  {
   "cell_type": "code",
   "execution_count": 1,
   "metadata": {},
   "outputs": [
    {
     "ename": "ModuleNotFoundError",
     "evalue": "No module named 'backend'",
     "output_type": "error",
     "traceback": [
      "\u001b[0;31m---------------------------------------------------------------------------\u001b[0m",
      "\u001b[0;31mModuleNotFoundError\u001b[0m                       Traceback (most recent call last)",
      "Cell \u001b[0;32mIn[1], line 1\u001b[0m\n\u001b[0;32m----> 1\u001b[0m \u001b[38;5;28;01mfrom\u001b[39;00m \u001b[38;5;21;01mexplainer\u001b[39;00m \u001b[38;5;28;01mimport\u001b[39;00m _ExplainerLLM\n\u001b[1;32m      3\u001b[0m test \u001b[38;5;241m=\u001b[39m _ExplainerLLM()\n\u001b[1;32m      5\u001b[0m response \u001b[38;5;241m=\u001b[39m test\u001b[38;5;241m.\u001b[39m_get_result(\n\u001b[1;32m      6\u001b[0m     \u001b[38;5;124m\"\u001b[39m\u001b[38;5;124mprompt.txt\u001b[39m\u001b[38;5;124m\"\u001b[39m,\n\u001b[1;32m      7\u001b[0m     \u001b[38;5;124m\"\u001b[39m\u001b[38;5;124mDas Unternehmen ist ein international agierender Lebensmittelproduzent aus dem Iran.\u001b[39m\u001b[38;5;124m\"\u001b[39m,\n\u001b[1;32m      8\u001b[0m     \u001b[38;5;124m\"\u001b[39m\u001b[38;5;124mSalami\u001b[39m\u001b[38;5;124m\"\u001b[39m,\n\u001b[1;32m      9\u001b[0m )\n",
      "File \u001b[0;32m~/Code/bosch-climate-solutions/src/backend/services/explainer.py:5\u001b[0m\n\u001b[1;32m      2\u001b[0m \u001b[38;5;28;01mimport\u001b[39;00m \u001b[38;5;21;01mpandas\u001b[39;00m \u001b[38;5;28;01mas\u001b[39;00m \u001b[38;5;21;01mpd\u001b[39;00m\n\u001b[1;32m      3\u001b[0m \u001b[38;5;28;01mfrom\u001b[39;00m \u001b[38;5;21;01mpathlib\u001b[39;00m \u001b[38;5;28;01mimport\u001b[39;00m Path\n\u001b[0;32m----> 5\u001b[0m \u001b[38;5;28;01mfrom\u001b[39;00m \u001b[38;5;21;01mbackend\u001b[39;00m\u001b[38;5;21;01m.\u001b[39;00m\u001b[38;5;21;01mservices\u001b[39;00m\u001b[38;5;21;01m.\u001b[39;00m\u001b[38;5;21;01mwatsonx\u001b[39;00m \u001b[38;5;28;01mimport\u001b[39;00m Watsonx\n\u001b[1;32m      7\u001b[0m TEMPLATE_PATH \u001b[38;5;241m=\u001b[39m Path(\u001b[38;5;18m__file__\u001b[39m)\u001b[38;5;241m.\u001b[39mparents[\u001b[38;5;241m1\u001b[39m] \u001b[38;5;241m/\u001b[39m \u001b[38;5;124m\"\u001b[39m\u001b[38;5;124mprompts\u001b[39m\u001b[38;5;124m\"\u001b[39m\n\u001b[1;32m     10\u001b[0m \u001b[38;5;28;01mclass\u001b[39;00m \u001b[38;5;21;01m_ExplainerLLM\u001b[39;00m:\n",
      "\u001b[0;31mModuleNotFoundError\u001b[0m: No module named 'backend'"
     ]
    }
   ],
   "source": [
    "from explainer import _ExplainerLLM\n",
    "\n",
    "test = _ExplainerLLM()\n",
    "\n",
    "response = test._get_result(\n",
    "    \"prompt.txt\",\n",
    "    \"Das Unternehmen ist ein international agierender Lebensmittelproduzent aus dem Iran.\",\n",
    "    \"Salami\",\n",
    ")"
   ]
  },
  {
   "cell_type": "code",
   "execution_count": 5,
   "metadata": {},
   "outputs": [
    {
     "data": {
      "text/plain": [
       "dict"
      ]
     },
     "execution_count": 5,
     "metadata": {},
     "output_type": "execute_result"
    }
   ],
   "source": [
    "type(response)"
   ]
  },
  {
   "cell_type": "code",
   "execution_count": 6,
   "metadata": {},
   "outputs": [
    {
     "data": {
      "text/plain": [
       "'Rindfleisch verarbeitet'"
      ]
     },
     "execution_count": 6,
     "metadata": {},
     "output_type": "execute_result"
    }
   ],
   "source": [
    "response[\"kategorie\"]"
   ]
  },
  {
   "cell_type": "code",
   "execution_count": 1,
   "metadata": {},
   "outputs": [],
   "source": [
    "from explainer import ExplainerCreator\n",
    "import pandas as pd\n",
    "\n",
    "\n",
    "workload = pd.DataFrame({\"ItemNames\": [\"Salami\", \"Käse\", \"Typ 550\"]})\n",
    "\n",
    "creator = ExplainerCreator(\n",
    "    workload=workload,\n",
    "    prompt_path=\"prompt.txt\",\n",
    "    context=\"Das Unternehmen ist ein international agierender Lebensmittelproduzent aus dem Iran.\",\n",
    ")"
   ]
  },
  {
   "cell_type": "code",
   "execution_count": 2,
   "metadata": {},
   "outputs": [
    {
     "data": {
      "text/html": [
       "<div>\n",
       "<style scoped>\n",
       "    .dataframe tbody tr th:only-of-type {\n",
       "        vertical-align: middle;\n",
       "    }\n",
       "\n",
       "    .dataframe tbody tr th {\n",
       "        vertical-align: top;\n",
       "    }\n",
       "\n",
       "    .dataframe thead th {\n",
       "        text-align: right;\n",
       "    }\n",
       "</style>\n",
       "<table border=\"1\" class=\"dataframe\">\n",
       "  <thead>\n",
       "    <tr style=\"text-align: right;\">\n",
       "      <th></th>\n",
       "      <th>ItemNames</th>\n",
       "      <th>erklärung</th>\n",
       "      <th>grundstoff</th>\n",
       "      <th>materialzusammensetzung</th>\n",
       "      <th>kategorie</th>\n",
       "    </tr>\n",
       "  </thead>\n",
       "  <tbody>\n",
       "    <tr>\n",
       "      <th>0</th>\n",
       "      <td>Salami</td>\n",
       "      <td>Salami ist ein verarbeitetes Fleischprodukt, d...</td>\n",
       "      <td>Rindfleisch verarbeitet</td>\n",
       "      <td>100% Rindfleisch</td>\n",
       "      <td>Rindfleisch verarbeitet</td>\n",
       "    </tr>\n",
       "    <tr>\n",
       "      <th>1</th>\n",
       "      <td>Käse</td>\n",
       "      <td>Käse ist ein Milchprodukt, das durch Gerinnung...</td>\n",
       "      <td>Milch verarbeitet</td>\n",
       "      <td>100% Milch</td>\n",
       "      <td>Milch verarbeitet</td>\n",
       "    </tr>\n",
       "    <tr>\n",
       "      <th>2</th>\n",
       "      <td>Typ 550</td>\n",
       "      <td>Typ 550 könnte sich auf eine spezifische Art v...</td>\n",
       "      <td>Weizen unverarbeitet</td>\n",
       "      <td>100% Weizen</td>\n",
       "      <td>Weizen unverarbeitet</td>\n",
       "    </tr>\n",
       "  </tbody>\n",
       "</table>\n",
       "</div>"
      ],
      "text/plain": [
       "  ItemNames                                          erklärung  \\\n",
       "0    Salami  Salami ist ein verarbeitetes Fleischprodukt, d...   \n",
       "1      Käse  Käse ist ein Milchprodukt, das durch Gerinnung...   \n",
       "2   Typ 550  Typ 550 könnte sich auf eine spezifische Art v...   \n",
       "\n",
       "                grundstoff materialzusammensetzung                kategorie  \n",
       "0  Rindfleisch verarbeitet        100% Rindfleisch  Rindfleisch verarbeitet  \n",
       "1        Milch verarbeitet              100% Milch        Milch verarbeitet  \n",
       "2     Weizen unverarbeitet             100% Weizen     Weizen unverarbeitet  "
      ]
     },
     "execution_count": 2,
     "metadata": {},
     "output_type": "execute_result"
    }
   ],
   "source": [
    "creator.get_results()"
   ]
  },
  {
   "cell_type": "code",
   "execution_count": null,
   "metadata": {},
   "outputs": [],
   "source": []
  },
  {
   "cell_type": "markdown",
   "metadata": {},
   "source": []
  }
 ],
 "metadata": {
  "kernelspec": {
   "display_name": ".venv",
   "language": "python",
   "name": "python3"
  },
  "language_info": {
   "codemirror_mode": {
    "name": "ipython",
    "version": 3
   },
   "file_extension": ".py",
   "mimetype": "text/x-python",
   "name": "python",
   "nbconvert_exporter": "python",
   "pygments_lexer": "ipython3",
   "version": "3.10.15"
  }
 },
 "nbformat": 4,
 "nbformat_minor": 2
}
